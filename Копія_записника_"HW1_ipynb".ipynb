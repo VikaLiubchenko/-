{
  "nbformat": 4,
  "nbformat_minor": 0,
  "metadata": {
    "colab": {
      "provenance": [],
      "include_colab_link": true
    },
    "kernelspec": {
      "name": "python3",
      "display_name": "Python 3"
    },
    "language_info": {
      "name": "python"
    }
  },
  "cells": [
    {
      "cell_type": "markdown",
      "metadata": {
        "id": "view-in-github",
        "colab_type": "text"
      },
      "source": [
        "<a href=\"https://colab.research.google.com/github/VikaLiubchenko/-/blob/main/%D0%9A%D0%BE%D0%BF%D1%96%D1%8F_%D0%B7%D0%B0%D0%BF%D0%B8%D1%81%D0%BD%D0%B8%D0%BA%D0%B0_%22HW1_ipynb%22.ipynb\" target=\"_parent\"><img src=\"https://colab.research.google.com/assets/colab-badge.svg\" alt=\"Open In Colab\"/></a>"
      ]
    },
    {
      "cell_type": "code",
      "execution_count": null,
      "metadata": {
        "id": "Wwp-GJsC6GYw"
      },
      "outputs": [],
      "source": [
        "import numpy as np\n",
        "import pandas as pd"
      ]
    },
    {
      "cell_type": "markdown",
      "source": [
        "# Завдання 1\n",
        "Нехай m - число букв у вашому прізвищі, n - число букв у вашому імені. Наприклад, \"Шевченко Тарас\": m=8, n=5.\n",
        "\n",
        "Представте у вигляді numpy масива матрицю\n",
        "\n",
        "$$ A =\n",
        "\\begin{bmatrix}\n",
        "m & 1 \\\\\n",
        "0 & -n\n",
        "\\end{bmatrix}\n",
        "$$"
      ],
      "metadata": {
        "id": "SOsdnLo0BMeb"
      }
    },
    {
      "cell_type": "code",
      "source": [
        "m=8\n",
        "n=8\n",
        "\n",
        "A = np.array([[m,1],\n",
        "              [0,-n]])\n",
        "\n",
        "print(A)"
      ],
      "metadata": {
        "id": "1ENQWZ8l6mYQ",
        "outputId": "e382799f-307d-4d38-91bc-0b9edcbbac52",
        "colab": {
          "base_uri": "https://localhost:8080/"
        }
      },
      "execution_count": null,
      "outputs": [
        {
          "output_type": "stream",
          "name": "stdout",
          "text": [
            "[[ 8  1]\n",
            " [ 0 -8]]\n"
          ]
        }
      ]
    },
    {
      "cell_type": "markdown",
      "source": [
        "# Завдання 2\n",
        "\n",
        "Обчисліть визначник матриці $A$"
      ],
      "metadata": {
        "id": "MHgMBUe1D9O4"
      }
    },
    {
      "cell_type": "code",
      "source": [
        "A = np.array([[8,1],\n",
        "              [0,-8]])\n",
        "\n",
        "det_A=np.linalg.det(A)\n",
        "\n",
        "print(f\"Визначник матриці А: {det_A}\")"
      ],
      "metadata": {
        "id": "ub307LAMD0zq",
        "colab": {
          "base_uri": "https://localhost:8080/"
        },
        "outputId": "0d23c3d4-2c7e-4a60-f9de-516b124fefcc"
      },
      "execution_count": null,
      "outputs": [
        {
          "output_type": "stream",
          "name": "stdout",
          "text": [
            "Визначник матриці А: -63.99999999999998\n"
          ]
        }
      ]
    },
    {
      "cell_type": "markdown",
      "source": [
        "# Завдання 3\n",
        "\n",
        "Знайдіть добуток $A^T \\cdot B$, де $A^T$ отримана у результаті транспозиції матриці $A$,\n",
        "$$\n",
        "B = \\begin{bmatrix}\n",
        "1 & -n \\\\\n",
        "n & 1\n",
        "\\end{bmatrix}\n",
        "$$"
      ],
      "metadata": {
        "id": "6ZTLe3JFEotB"
      }
    },
    {
      "cell_type": "code",
      "source": [
        "A = np.array([[8,1],\n",
        "            [0,-8]])\n",
        "\n",
        "\n",
        "A_T= A.transpose()\n",
        "n=8\n",
        "B = np.array([[1,-n],\n",
        "              [n,1]])\n",
        "\n",
        "result=np.dot(A_T, B)\n",
        "\n",
        "print(\"Матриця A^T:\")\n",
        "print(A_T)\n",
        "print(\"\\nMатриця В:\")\n",
        "print(B)\n",
        "print(\"\\nДобуток A^T i B\")\n",
        "print(result)\n"
      ],
      "metadata": {
        "id": "VGkL9kWFEqtK",
        "colab": {
          "base_uri": "https://localhost:8080/"
        },
        "outputId": "50f3160a-199b-4356-e543-6430a1466863"
      },
      "execution_count": null,
      "outputs": [
        {
          "output_type": "stream",
          "name": "stdout",
          "text": [
            "Матриця A^T:\n",
            "[[ 8  0]\n",
            " [ 1 -8]]\n",
            "\n",
            "Mатриця В:\n",
            "[[ 1 -8]\n",
            " [ 8  1]]\n",
            "\n",
            "Добуток A^T i B\n",
            "[[  8 -64]\n",
            " [-63 -16]]\n"
          ]
        }
      ]
    },
    {
      "cell_type": "markdown",
      "source": [
        "# Завдання 4\n",
        "Знайдіть добуток $A \\mathbf{v}$, де\n",
        "$$\n",
        "\\mathbf{v} =\n",
        "\\begin{bmatrix}\n",
        "5 \\\\\n",
        "-3\n",
        "\\end{bmatrix}\n",
        "$$"
      ],
      "metadata": {
        "id": "zOMDMiDkGjjh"
      }
    },
    {
      "cell_type": "code",
      "source": [
        "A = np.array([[8,1],\n",
        "             [0,-8]])\n",
        "\n",
        "v=np.array([5,-3])\n",
        "\n",
        "result = np.dot(A,v)\n",
        "print(\"Вектор v :\")\n",
        "print (v)\n",
        "print(\"\\nДобуток A* v :\")\n",
        "print(result)\n"
      ],
      "metadata": {
        "id": "2ZncweCCOZe0",
        "colab": {
          "base_uri": "https://localhost:8080/"
        },
        "outputId": "f7a21e80-f48e-4af5-b9f1-9d09101651bf"
      },
      "execution_count": null,
      "outputs": [
        {
          "output_type": "stream",
          "name": "stdout",
          "text": [
            "Вектор v :\n",
            "[ 5 -3]\n",
            "\n",
            "Добуток A* v :\n",
            "[37 24]\n"
          ]
        }
      ]
    },
    {
      "cell_type": "markdown",
      "source": [
        "# Завдання 5\n",
        "Обчислити середнє і стандартне відхилення колонки 'age' датафрейму data"
      ],
      "metadata": {
        "id": "ubid3exuKIJQ"
      }
    },
    {
      "cell_type": "code",
      "source": [
        "from seaborn import load_dataset\n",
        "data = load_dataset('titanic')\n",
        "data = data[data.index % A[0][0] == 0] # тут нічого не потрібно змінювати"
      ],
      "metadata": {
        "id": "n2GS67BKCnYQ"
      },
      "execution_count": null,
      "outputs": []
    },
    {
      "cell_type": "code",
      "source": [
        "from seaborn import load_dataset\n",
        "\n",
        "data = load_dataset('titanic')\n",
        "\n",
        "A=np.array([[8,1],\n",
        "            [0,-8]])\n",
        "\n",
        "data=data[data.index % A[0][0]==0]\n",
        "\n",
        "mean_age =data['age'].mean()\n",
        "std_age=data['age'].std()\n",
        "\n",
        "print(f\"Середнє значення віку: {mean_age}\")\n",
        "print(f\"Стандартне відхилення віку : {std_age}\")"
      ],
      "metadata": {
        "id": "WY32aQHyCpRx",
        "colab": {
          "base_uri": "https://localhost:8080/"
        },
        "outputId": "b7c75797-b459-447b-9983-4fd19cefc93e"
      },
      "execution_count": null,
      "outputs": [
        {
          "output_type": "stream",
          "name": "stdout",
          "text": [
            "Середнє значення віку: 30.627906976744185\n",
            "Стандартне відхилення віку : 14.73355235438759\n"
          ]
        }
      ]
    }
  ]
}